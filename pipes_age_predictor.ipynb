{
  "nbformat": 4,
  "nbformat_minor": 0,
  "metadata": {
    "colab": {
      "provenance": [],
      "mount_file_id": "1biTTSPgPDFLoND8Civk8TqVOqxONqsdd",
      "authorship_tag": "ABX9TyPtA7uJMpi+nTNgQQhVPN9y"
    },
    "kernelspec": {
      "name": "python3",
      "display_name": "Python 3"
    },
    "language_info": {
      "name": "python"
    }
  },
  "cells": [
    {
      "cell_type": "markdown",
      "source": [
        "**Predicting the age of a dataset of pipes: a regression (and classification) task**\n",
        "\n",
        "\n",
        "---\n",
        "\n",
        "\n",
        "First, let us import some packages and functions."
      ],
      "metadata": {
        "id": "AwWgANTlhAPO"
      }
    },
    {
      "cell_type": "code",
      "execution_count": null,
      "metadata": {
        "id": "4ud-UWAF3MJm"
      },
      "outputs": [],
      "source": [
        "import numpy as np\n",
        "import pandas as pd\n",
        "import seaborn as sns\n",
        "\n",
        "from sklearn import preprocessing\n",
        "from sklearn.preprocessing import StandardScaler, OneHotEncoder\n",
        "from sklearn.model_selection import train_test_split\n",
        "from sklearn.metrics import mean_absolute_error\n",
        "\n",
        "import keras\n",
        "from keras.models import Sequential\n",
        "from keras.layers import Dense\n",
        "from keras.optimizers import Adam\n",
        "from tensorflow.keras.utils import to_categorical\n",
        "from tensorflow.keras.initializers import RandomNormal"
      ]
    },
    {
      "cell_type": "markdown",
      "source": [
        "We load the dataset of pipes and we briefly visualize and outline its main properties."
      ],
      "metadata": {
        "id": "-oIJ2bA6hgkv"
      }
    },
    {
      "cell_type": "code",
      "source": [
        "url = 'https://raw.githubusercontent.com/cesc14/AgePipes/main/dataset.csv'\n",
        "df = pd.read_csv(url)\n",
        "df.head()   # At a glance..."
      ],
      "metadata": {
        "id": "3rJd73IK3UhL"
      },
      "execution_count": null,
      "outputs": []
    },
    {
      "cell_type": "code",
      "source": [
        "df.info()   # Some further information"
      ],
      "metadata": {
        "id": "CwXtl-QvikEh"
      },
      "execution_count": null,
      "outputs": []
    },
    {
      "cell_type": "markdown",
      "source": [
        "As we are interest in estimating the age of the pipes, it is worth to visualize the overall age's distribution in this dataset."
      ],
      "metadata": {
        "id": "iS6wA2QYixi5"
      }
    },
    {
      "cell_type": "code",
      "source": [
        "ages_array = df['anno']\n",
        "sns.displot(ages_array, binwidth=1)\n",
        "\n",
        "print(np.unique(df['anno']))"
      ],
      "metadata": {
        "id": "ASLr_T91iwF5"
      },
      "execution_count": null,
      "outputs": []
    },
    {
      "cell_type": "markdown",
      "source": [
        "Before proceeding with the exercise, it is a good idea to transform the dataset in such a way that it contains numerical entries only. To do so, we need to encode the material of each pipe \"numerically\". After that, we can set our regression problem up by considering pipes' age as the label to be predicted."
      ],
      "metadata": {
        "id": "tEdveE9mkOqk"
      }
    },
    {
      "cell_type": "code",
      "source": [
        "df = pd.get_dummies(df, columns=['materiale'])\n",
        "db = df.to_numpy().astype(float)\n",
        "\n",
        "X = db[:,1:]\n",
        "y = db[:,0].astype(float)\n"
      ],
      "metadata": {
        "id": "Fc8SOMHB2gDn"
      },
      "execution_count": null,
      "outputs": []
    },
    {
      "cell_type": "markdown",
      "source": [
        "To experiment with this dataset, we then randomly split it into a training and a test set. We will learn from the training set and we will then assess the performance of the trained model on the test set."
      ],
      "metadata": {
        "id": "yMwKh9v3laIx"
      }
    },
    {
      "cell_type": "code",
      "source": [
        "X_train, X_test, y_train, y_test = train_test_split(X, y, test_size=0.3, shuffle=True, random_state=42)\n",
        "\n",
        "# Scale data\n",
        "scaler = StandardScaler()\n",
        "X_train = scaler.fit_transform(X_train)\n",
        "X_test = scaler.transform(X_test)"
      ],
      "metadata": {
        "id": "kfczQUl_3XBx"
      },
      "execution_count": null,
      "outputs": []
    },
    {
      "cell_type": "markdown",
      "source": [
        "We are ready to train a simple feed-forward neural network on our dataset!"
      ],
      "metadata": {
        "id": "1JgdDASll31G"
      }
    },
    {
      "cell_type": "code",
      "source": [
        "keras.utils.set_random_seed(42)\n",
        "\n",
        "model = Sequential()\n",
        "model.add(Dense(1000, input_dim=X_train.shape[1], activation='relu'))\n",
        "model.add(Dense(200, activation='relu'))\n",
        "model.add(Dense(1, activation='linear'))\n",
        "\n",
        "loss = 'mean_squared_error'\n",
        "\n",
        "opt = Adam(learning_rate=1e-3)\n",
        "model.compile(loss=loss, optimizer=opt)\n",
        "\n",
        "model.fit(X_train, y_train, epochs=60, batch_size=32, verbose=1)\n",
        "\n",
        "y_pred = model.predict(X_test)"
      ],
      "metadata": {
        "id": "YDdU4X7B6DQP"
      },
      "execution_count": null,
      "outputs": []
    },
    {
      "cell_type": "code",
      "source": [
        "print(\"Mean absolute error (regression):\", np.round(mean_absolute_error(y_test, y_pred),2),\"years\")"
      ],
      "metadata": {
        "id": "iv5eAIO18dDo"
      },
      "execution_count": null,
      "outputs": []
    },
    {
      "cell_type": "markdown",
      "source": [
        " You can play with the network's parameters to observe how the result change!"
      ],
      "metadata": {
        "id": "vXghWcjmmcP0"
      }
    },
    {
      "cell_type": "markdown",
      "source": [
        "**Moving to classification**\n",
        "\n",
        "In this situation, we may interpret pipes' age prediction as a classification problem, which might lead to good results as well.\n",
        "First, in order to obtain a restricted number of classes to be predicted, we group together pipes of similar ages.\n"
      ],
      "metadata": {
        "id": "bSgGK0NXnXoF"
      }
    },
    {
      "cell_type": "code",
      "source": [
        "def myround(x):\n",
        "    return 10 * np.round(x/10)\n",
        "\n",
        "y_train_rounded = myround(y_train)\n",
        "num_classes = len(np.unique(y_train_rounded))\n",
        "\n",
        "print(np.unique(y_train_rounded))\n",
        "\n",
        "y_test_rounded = myround(y_test)"
      ],
      "metadata": {
        "id": "OxF4mNpSodZK"
      },
      "execution_count": null,
      "outputs": []
    },
    {
      "cell_type": "markdown",
      "source": [
        "Furthermore, to perform neural network classification, we need to one-hot encode our labels."
      ],
      "metadata": {
        "id": "aS386OvWpFfS"
      }
    },
    {
      "cell_type": "code",
      "source": [
        "enchot = OneHotEncoder()\n",
        "y_train_hot = enchot.fit_transform(y_train_rounded.reshape(-1,1)).toarray()"
      ],
      "metadata": {
        "id": "9_FWbU2ep7AN"
      },
      "execution_count": null,
      "outputs": []
    },
    {
      "cell_type": "markdown",
      "source": [
        "We are ready to train a similar feed-forward neural network for classification."
      ],
      "metadata": {
        "id": "VyXYYSOeq1MI"
      }
    },
    {
      "cell_type": "code",
      "source": [
        "keras.utils.set_random_seed(42)\n",
        "\n",
        "model = Sequential()\n",
        "model.add(Dense(1000, input_dim=X_train.shape[1], activation='relu'))\n",
        "model.add(Dense(200, activation='relu'))\n",
        "model.add(Dense(num_classes, activation='softmax'))\n",
        "\n",
        "loss = 'categorical_crossentropy'\n",
        "\n",
        "opt = Adam(learning_rate=1e-3)\n",
        "model.compile(loss=loss, optimizer=opt)\n",
        "\n",
        "model.fit(X_train, y_train_hot, epochs=60, batch_size=32, verbose=1)\n",
        "\n",
        "y_pred_hot = to_categorical(np.argmax(model.predict(X_test),axis=1),num_classes)\n",
        "y_pred_rounded = enchot.inverse_transform(y_pred_hot)"
      ],
      "metadata": {
        "id": "1jTzV5fUqNyK"
      },
      "execution_count": null,
      "outputs": []
    },
    {
      "cell_type": "code",
      "source": [
        "print(\"Mean absolute error (classification):\", np.round(mean_absolute_error(y_test_rounded, y_pred_rounded),2),\"years\")"
      ],
      "metadata": {
        "id": "EGyhhJpmrwlB"
      },
      "execution_count": null,
      "outputs": []
    },
    {
      "cell_type": "code",
      "source": [],
      "metadata": {
        "id": "cRiYCzCGsuvn"
      },
      "execution_count": null,
      "outputs": []
    }
  ]
}
